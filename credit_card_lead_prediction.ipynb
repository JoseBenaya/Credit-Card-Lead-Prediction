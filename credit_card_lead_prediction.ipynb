{
 "cells": [
  {
   "cell_type": "markdown",
   "metadata": {
    "id": "IJO-n2byJ_lY"
   },
   "source": [
    "## CAPSTONE PROJECT - CLASSIFICATION"
   ]
  },
  {
   "cell_type": "code",
   "execution_count": 45,
   "metadata": {
    "colab": {
     "base_uri": "https://localhost:8080/"
    },
    "id": "hRpaPbuBkE8I",
    "outputId": "73897ee3-7492-4026-ce08-02bfb0654aa1"
   },
   "outputs": [
    {
     "name": "stdout",
     "output_type": "stream",
     "text": [
      "Drive already mounted at /content/gdrive; to attempt to forcibly remount, call drive.mount(\"/content/gdrive\", force_remount=True).\n"
     ]
    }
   ],
   "source": [
    "from google.colab import drive\n",
    "drive.mount('/content/gdrive')"
   ]
  },
  {
   "cell_type": "markdown",
   "metadata": {
    "id": "rZR9IwjIJ_lb"
   },
   "source": [
    "#### IMPORT PACKAGES"
   ]
  },
  {
   "cell_type": "code",
   "execution_count": 46,
   "metadata": {
    "id": "7EZ9sGkuJ_lc"
   },
   "outputs": [],
   "source": [
    "import pandas as pd\n",
    "import numpy as np\n",
    "import matplotlib.pyplot as plt\n",
    "import seaborn as sns\n",
    "from sklearn.preprocessing import LabelEncoder, StandardScaler\n",
    "from sklearn.utils import resample\n",
    "from sklearn import metrics\n",
    "from sklearn.preprocessing import LabelEncoder,StandardScaler\n",
    "from sklearn.model_selection import train_test_split,GridSearchCV\n",
    "from sklearn.metrics import precision_score, recall_score, confusion_matrix, f1_score, roc_auc_score, roc_curve\n",
    "from sklearn.metrics import accuracy_score,classification_report,confusion_matrix,roc_auc_score,roc_curve\n",
    "from sklearn.linear_model import LogisticRegression\n",
    "from sklearn.ensemble import RandomForestClassifier\n",
    "from sklearn.tree import DecisionTreeClassifier\n",
    "from sklearn.model_selection import cross_val_score\n",
    "\n",
    "import warnings\n",
    "warnings.filterwarnings('ignore')"
   ]
  },
  {
   "cell_type": "markdown",
   "metadata": {
    "id": "f4DCJr9kJ_lc"
   },
   "source": [
    "#### READ DATASET"
   ]
  },
  {
   "cell_type": "code",
   "execution_count": 47,
   "metadata": {
    "colab": {
     "base_uri": "https://localhost:8080/",
     "height": 202
    },
    "id": "fcrxS0OHJ_ld",
    "outputId": "80cf4b07-bb87-4f86-fa9c-c2f91721cc01"
   },
   "outputs": [
    {
     "data": {
      "text/html": [
       "<div>\n",
       "<style scoped>\n",
       "    .dataframe tbody tr th:only-of-type {\n",
       "        vertical-align: middle;\n",
       "    }\n",
       "\n",
       "    .dataframe tbody tr th {\n",
       "        vertical-align: top;\n",
       "    }\n",
       "\n",
       "    .dataframe thead th {\n",
       "        text-align: right;\n",
       "    }\n",
       "</style>\n",
       "<table border=\"1\" class=\"dataframe\">\n",
       "  <thead>\n",
       "    <tr style=\"text-align: right;\">\n",
       "      <th></th>\n",
       "      <th>ID</th>\n",
       "      <th>Gender</th>\n",
       "      <th>Age</th>\n",
       "      <th>Region_Code</th>\n",
       "      <th>Occupation</th>\n",
       "      <th>Channel_Code</th>\n",
       "      <th>Vintage</th>\n",
       "      <th>Credit_Product</th>\n",
       "      <th>Avg_Account_Balance</th>\n",
       "      <th>Is_Active</th>\n",
       "      <th>Is_Lead</th>\n",
       "      <th>jenis</th>\n",
       "    </tr>\n",
       "  </thead>\n",
       "  <tbody>\n",
       "    <tr>\n",
       "      <th>0</th>\n",
       "      <td>NNVBBKZB</td>\n",
       "      <td>Female</td>\n",
       "      <td>73</td>\n",
       "      <td>RG268</td>\n",
       "      <td>Other</td>\n",
       "      <td>X3</td>\n",
       "      <td>43</td>\n",
       "      <td>No</td>\n",
       "      <td>1045696</td>\n",
       "      <td>No</td>\n",
       "      <td>0.0</td>\n",
       "      <td>train</td>\n",
       "    </tr>\n",
       "    <tr>\n",
       "      <th>1</th>\n",
       "      <td>IDD62UNG</td>\n",
       "      <td>Female</td>\n",
       "      <td>30</td>\n",
       "      <td>RG277</td>\n",
       "      <td>Salaried</td>\n",
       "      <td>X1</td>\n",
       "      <td>32</td>\n",
       "      <td>No</td>\n",
       "      <td>581988</td>\n",
       "      <td>No</td>\n",
       "      <td>0.0</td>\n",
       "      <td>train</td>\n",
       "    </tr>\n",
       "    <tr>\n",
       "      <th>2</th>\n",
       "      <td>HD3DSEMC</td>\n",
       "      <td>Female</td>\n",
       "      <td>56</td>\n",
       "      <td>RG268</td>\n",
       "      <td>Self_Employed</td>\n",
       "      <td>X3</td>\n",
       "      <td>26</td>\n",
       "      <td>No</td>\n",
       "      <td>1484315</td>\n",
       "      <td>Yes</td>\n",
       "      <td>0.0</td>\n",
       "      <td>train</td>\n",
       "    </tr>\n",
       "    <tr>\n",
       "      <th>3</th>\n",
       "      <td>BF3NC7KV</td>\n",
       "      <td>Male</td>\n",
       "      <td>34</td>\n",
       "      <td>RG270</td>\n",
       "      <td>Salaried</td>\n",
       "      <td>X1</td>\n",
       "      <td>19</td>\n",
       "      <td>No</td>\n",
       "      <td>470454</td>\n",
       "      <td>No</td>\n",
       "      <td>0.0</td>\n",
       "      <td>train</td>\n",
       "    </tr>\n",
       "    <tr>\n",
       "      <th>4</th>\n",
       "      <td>TEASRWXV</td>\n",
       "      <td>Female</td>\n",
       "      <td>30</td>\n",
       "      <td>RG282</td>\n",
       "      <td>Salaried</td>\n",
       "      <td>X1</td>\n",
       "      <td>33</td>\n",
       "      <td>No</td>\n",
       "      <td>886787</td>\n",
       "      <td>No</td>\n",
       "      <td>0.0</td>\n",
       "      <td>train</td>\n",
       "    </tr>\n",
       "  </tbody>\n",
       "</table>\n",
       "</div>"
      ],
      "text/plain": [
       "         ID  Gender  Age  ... Is_Active Is_Lead  jenis\n",
       "0  NNVBBKZB  Female   73  ...        No     0.0  train\n",
       "1  IDD62UNG  Female   30  ...        No     0.0  train\n",
       "2  HD3DSEMC  Female   56  ...       Yes     0.0  train\n",
       "3  BF3NC7KV    Male   34  ...        No     0.0  train\n",
       "4  TEASRWXV  Female   30  ...        No     0.0  train\n",
       "\n",
       "[5 rows x 12 columns]"
      ]
     },
     "execution_count": 47,
     "metadata": {},
     "output_type": "execute_result"
    }
   ],
   "source": [
    "path = '/content/gdrive/MyDrive/NarasioData/Junior Data Scientist/Meet 5/4. Classification - Credit Card Lead/'\n",
    "df_train = pd.read_csv(path + 'train.csv')\n",
    "df_train['jenis'] = 'train'\n",
    "\n",
    "df_test = pd.read_csv(path + 'test.csv')\n",
    "df_test['jenis'] = 'test'\n",
    "\n",
    "df = pd.concat([df_train, df_test], ignore_index=True)\n",
    "df.head()"
   ]
  },
  {
   "cell_type": "markdown",
   "metadata": {
    "id": "fd42oBYAJ_ld"
   },
   "source": [
    "#### PROBLEM STATEMENT"
   ]
  },
  {
   "cell_type": "markdown",
   "metadata": {
    "id": "gWGUZhFgqEiM"
   },
   "source": [
    "<p>Happy Customer Bank adalah bank swasta menengah yang menangani semua jenis produk perbankan, seperti tabungan, giro, produk investasi, serta produk kredit, di antara penawaran lainnya. Bank ini juga melakukan cross-selling produk kepada nasabah yang sudah ada dan untuk melakukannya mereka menggunakan berbagai jenis komunikasi seperti telecalling, e-mail, rekomendasi tentang net banking, mobile banking, dan lain-lain. Dalam hal ini, Happy Customer Bank ingin melakukan cross-selling kartu kreditnya kepada nasabah yang sudah ada. Bank telah mengidentifikasi satu set pelanggan yang memenuhi syarat untuk mengambil kartu kredit ini. Sekarang, bank meminta bantuan Anda dalam mengidentifikasi pelanggan yang dapat menunjukkan ketertarikan yang lebih tinggi terhadap kartu kredit yang direkomendasikan.</p>"
   ]
  },
  {
   "cell_type": "markdown",
   "metadata": {
    "id": "1LTjPkJzJ_lh"
   },
   "source": [
    "#### EDA"
   ]
  },
  {
   "cell_type": "code",
   "execution_count": 48,
   "metadata": {
    "colab": {
     "base_uri": "https://localhost:8080/"
    },
    "id": "G8BEKTZ6r8om",
    "outputId": "7b1eba11-f216-49c1-9a34-5892a9d7d00e"
   },
   "outputs": [
    {
     "name": "stdout",
     "output_type": "stream",
     "text": [
      "<class 'pandas.core.frame.DataFrame'>\n",
      "RangeIndex: 351037 entries, 0 to 351036\n",
      "Data columns (total 12 columns):\n",
      " #   Column               Non-Null Count   Dtype  \n",
      "---  ------               --------------   -----  \n",
      " 0   ID                   351037 non-null  object \n",
      " 1   Gender               351037 non-null  object \n",
      " 2   Age                  351037 non-null  int64  \n",
      " 3   Region_Code          351037 non-null  object \n",
      " 4   Occupation           351037 non-null  object \n",
      " 5   Channel_Code         351037 non-null  object \n",
      " 6   Vintage              351037 non-null  int64  \n",
      " 7   Credit_Product       309190 non-null  object \n",
      " 8   Avg_Account_Balance  351037 non-null  int64  \n",
      " 9   Is_Active            351037 non-null  object \n",
      " 10  Is_Lead              245725 non-null  float64\n",
      " 11  jenis                351037 non-null  object \n",
      "dtypes: float64(1), int64(3), object(8)\n",
      "memory usage: 32.1+ MB\n"
     ]
    }
   ],
   "source": [
    "#melihat info dataframe dan ukuran dataframe\n",
    "df.info()"
   ]
  },
  {
   "cell_type": "code",
   "execution_count": 49,
   "metadata": {
    "colab": {
     "base_uri": "https://localhost:8080/"
    },
    "id": "PZLvJIFrtGFg",
    "outputId": "6f12f3e0-13af-4344-91ac-3642be9cac52"
   },
   "outputs": [
    {
     "data": {
      "text/plain": [
       "ID                     351037\n",
       "Gender                      2\n",
       "Age                        63\n",
       "Region_Code                35\n",
       "Occupation                  4\n",
       "Channel_Code                4\n",
       "Vintage                    66\n",
       "Credit_Product              2\n",
       "Avg_Account_Balance    162137\n",
       "Is_Active                   2\n",
       "Is_Lead                     2\n",
       "jenis                       2\n",
       "dtype: int64"
      ]
     },
     "execution_count": 49,
     "metadata": {},
     "output_type": "execute_result"
    }
   ],
   "source": [
    "df.nunique()"
   ]
  },
  {
   "cell_type": "code",
   "execution_count": 50,
   "metadata": {
    "colab": {
     "base_uri": "https://localhost:8080/"
    },
    "id": "npD283TpJ_lh",
    "outputId": "eb591ac5-967d-4082-f214-e41511b3b62e"
   },
   "outputs": [
    {
     "data": {
      "text/plain": [
       "ID                          0\n",
       "Gender                      0\n",
       "Age                         0\n",
       "Region_Code                 0\n",
       "Occupation                  0\n",
       "Channel_Code                0\n",
       "Vintage                     0\n",
       "Credit_Product          41847\n",
       "Avg_Account_Balance         0\n",
       "Is_Active                   0\n",
       "Is_Lead                105312\n",
       "jenis                       0\n",
       "dtype: int64"
      ]
     },
     "execution_count": 50,
     "metadata": {},
     "output_type": "execute_result"
    }
   ],
   "source": [
    "df.isnull().sum()"
   ]
  },
  {
   "cell_type": "code",
   "execution_count": 51,
   "metadata": {
    "id": "ZGi9u-XD2kPQ"
   },
   "outputs": [],
   "source": [
    "df['Credit_Product'] = df['Credit_Product'].fillna('NA')"
   ]
  },
  {
   "cell_type": "code",
   "execution_count": 52,
   "metadata": {
    "colab": {
     "base_uri": "https://localhost:8080/"
    },
    "id": "aXUJo_cx2l5o",
    "outputId": "9f3b276c-2407-415e-bc8d-447eaccb180e"
   },
   "outputs": [
    {
     "data": {
      "text/plain": [
       "ID                          0\n",
       "Gender                      0\n",
       "Age                         0\n",
       "Region_Code                 0\n",
       "Occupation                  0\n",
       "Channel_Code                0\n",
       "Vintage                     0\n",
       "Credit_Product              0\n",
       "Avg_Account_Balance         0\n",
       "Is_Active                   0\n",
       "Is_Lead                105312\n",
       "jenis                       0\n",
       "dtype: int64"
      ]
     },
     "execution_count": 52,
     "metadata": {},
     "output_type": "execute_result"
    }
   ],
   "source": [
    "df.isnull().sum()"
   ]
  },
  {
   "cell_type": "markdown",
   "metadata": {
    "id": "4EbxG16wwUbd"
   },
   "source": [
    "#### VISUALIZATION"
   ]
  },
  {
   "cell_type": "markdown",
   "metadata": {
    "id": "Rgb_jEyGwc9Q"
   },
   "source": [
    "<h4>Univariate Analysis</h4>"
   ]
  },
  {
   "cell_type": "code",
   "execution_count": 53,
   "metadata": {
    "colab": {
     "base_uri": "https://localhost:8080/",
     "height": 278
    },
    "id": "YfVFtdNRwkm-",
    "outputId": "44a322a6-f48a-44e3-8e94-6f4d38c3c79e"
   },
   "outputs": [
    {
     "data": {
      "image/png": "[encoded data removed]",
      "text/plain": [
       "<Figure size 432x288 with 1 Axes>"
      ]
     },
     "metadata": {
      "needs_background": "light"
     },
     "output_type": "display_data"
    }
   ],
   "source": [
    "sns.distplot(df['Age'])\n",
    "plt.show()"
   ]
  },
  {
   "cell_type": "code",
   "execution_count": 54,
   "metadata": {
    "colab": {
     "base_uri": "https://localhost:8080/",
     "height": 291
    },
    "id": "y3P6hlb6wZ7s",
    "outputId": "87e0f466-01ef-43dc-82b5-f71fb41620a7"
   },
   "outputs": [
    {
     "data": {
      "image/png": "[encoded data removed]",
      "text/plain": [
       "<Figure size 432x288 with 1 Axes>"
      ]
     },
     "metadata": {
      "needs_background": "light"
     },
     "output_type": "display_data"
    }
   ],
   "source": [
    "sns.distplot(df['Avg_Account_Balance'])\n",
    "plt.show()"
   ]
  },
  {
   "cell_type": "code",
   "execution_count": 55,
   "metadata": {
    "colab": {
     "base_uri": "https://localhost:8080/",
     "height": 282
    },
    "id": "GCBxDl4KyAAH",
    "outputId": "729eeb3e-6be2-4b21-89cc-6b9e4b16cbf7"
   },
   "outputs": [
    {
     "data": {
      "image/png": "[encoded data removed]",
      "text/plain": [
       "<Figure size 576x288 with 1 Axes>"
      ]
     },
     "metadata": {
      "needs_background": "light"
     },
     "output_type": "display_data"
    }
   ],
   "source": [
    "plt.figure(figsize=(8,4))\n",
    "sns.countplot(df['Gender'], palette='Accent')\n",
    "plt.show()"
   ]
  },
  {
   "cell_type": "code",
   "execution_count": 56,
   "metadata": {
    "colab": {
     "base_uri": "https://localhost:8080/",
     "height": 294
    },
    "id": "trkhPH54H338",
    "outputId": "fc7f0708-3d4e-47e2-b72c-bfc2de452c7e"
   },
   "outputs": [
    {
     "data": {
      "image/png": "[encoded data removed]",
      "text/plain": [
       "<Figure size 432x288 with 1 Axes>"
      ]
     },
     "metadata": {
      "needs_background": "light"
     },
     "output_type": "display_data"
    }
   ],
   "source": [
    "ax = sns.countplot(x=df['Gender'], hue=df.Is_Lead)\n",
    "ax.set_title('Distribusi Gender di dalam Dataset')\n",
    "plt.show()"
   ]
  },
  {
   "cell_type": "code",
   "execution_count": 57,
   "metadata": {
    "colab": {
     "base_uri": "https://localhost:8080/",
     "height": 348
    },
    "id": "ld5JEMS8x_W9",
    "outputId": "1859982b-3dfe-4134-8001-e23e1f4e0707"
   },
   "outputs": [
    {
     "name": "stdout",
     "output_type": "stream",
     "text": [
      "0.0    187437\n",
      "1.0     58288\n",
      "Name: Is_Lead, dtype: int64\n"
     ]
    },
    {
     "data": {
      "image/png": "[encoded data removed]",
      "text/plain": [
       "<Figure size 576x288 with 1 Axes>"
      ]
     },
     "metadata": {
      "needs_background": "light"
     },
     "output_type": "display_data"
    }
   ],
   "source": [
    "target = 'Is_Lead'\n",
    "plt.figure(figsize=(8,4))\n",
    "ax = sns.countplot(df[target], palette='hls')\n",
    "ax.set_title('Jumlah Keterkaitan Customer dengan Product')\n",
    "print(df[target].value_counts())"
   ]
  },
  {
   "cell_type": "markdown",
   "metadata": {
    "id": "ndgcVe6vzFnJ"
   },
   "source": [
    "<h4>Bivariate Analysis</h4>"
   ]
  },
  {
   "cell_type": "code",
   "execution_count": 58,
   "metadata": {
    "colab": {
     "base_uri": "https://localhost:8080/",
     "height": 280
    },
    "id": "bjyEwj9qwZtT",
    "outputId": "9ed29fe3-265c-423b-dc55-51d69117ebad"
   },
   "outputs": [
    {
     "data": {
      "image/png": "[encoded data removed]",
      "text/plain": [
       "<Figure size 576x288 with 1 Axes>"
      ]
     },
     "metadata": {
      "needs_background": "light"
     },
     "output_type": "display_data"
    }
   ],
   "source": [
    "#Entrepreneur = 0\n",
    "#Other = 1\n",
    "#Salaried = 2\n",
    "#Self_Employed = 3\n",
    "plt.figure(figsize=(8,4))\n",
    "sns.countplot(x='Occupation', hue='Is_Lead', data=df, palette='magma')\n",
    "plt.show()"
   ]
  },
  {
   "cell_type": "code",
   "execution_count": 59,
   "metadata": {
    "colab": {
     "base_uri": "https://localhost:8080/",
     "height": 202
    },
    "id": "avEpJ5dLz3kx",
    "outputId": "0d74844a-accc-4ef8-cdfb-d12943911cd5"
   },
   "outputs": [
    {
     "data": {
      "text/html": [
       "<div>\n",
       "<style scoped>\n",
       "    .dataframe tbody tr th:only-of-type {\n",
       "        vertical-align: middle;\n",
       "    }\n",
       "\n",
       "    .dataframe tbody tr th {\n",
       "        vertical-align: top;\n",
       "    }\n",
       "\n",
       "    .dataframe thead th {\n",
       "        text-align: right;\n",
       "    }\n",
       "</style>\n",
       "<table border=\"1\" class=\"dataframe\">\n",
       "  <thead>\n",
       "    <tr style=\"text-align: right;\">\n",
       "      <th></th>\n",
       "      <th>ID</th>\n",
       "      <th>Gender</th>\n",
       "      <th>Age</th>\n",
       "      <th>Region_Code</th>\n",
       "      <th>Occupation</th>\n",
       "      <th>Channel_Code</th>\n",
       "      <th>Vintage</th>\n",
       "      <th>Credit_Product</th>\n",
       "      <th>Avg_Account_Balance</th>\n",
       "      <th>Is_Active</th>\n",
       "      <th>Is_Lead</th>\n",
       "      <th>jenis</th>\n",
       "    </tr>\n",
       "  </thead>\n",
       "  <tbody>\n",
       "    <tr>\n",
       "      <th>0</th>\n",
       "      <td>NNVBBKZB</td>\n",
       "      <td>Female</td>\n",
       "      <td>73</td>\n",
       "      <td>RG268</td>\n",
       "      <td>Other</td>\n",
       "      <td>X3</td>\n",
       "      <td>43</td>\n",
       "      <td>No</td>\n",
       "      <td>1045696</td>\n",
       "      <td>No</td>\n",
       "      <td>0.0</td>\n",
       "      <td>train</td>\n",
       "    </tr>\n",
       "    <tr>\n",
       "      <th>1</th>\n",
       "      <td>IDD62UNG</td>\n",
       "      <td>Female</td>\n",
       "      <td>30</td>\n",
       "      <td>RG277</td>\n",
       "      <td>Salaried</td>\n",
       "      <td>X1</td>\n",
       "      <td>32</td>\n",
       "      <td>No</td>\n",
       "      <td>581988</td>\n",
       "      <td>No</td>\n",
       "      <td>0.0</td>\n",
       "      <td>train</td>\n",
       "    </tr>\n",
       "    <tr>\n",
       "      <th>2</th>\n",
       "      <td>HD3DSEMC</td>\n",
       "      <td>Female</td>\n",
       "      <td>56</td>\n",
       "      <td>RG268</td>\n",
       "      <td>Self_Employed</td>\n",
       "      <td>X3</td>\n",
       "      <td>26</td>\n",
       "      <td>No</td>\n",
       "      <td>1484315</td>\n",
       "      <td>Yes</td>\n",
       "      <td>0.0</td>\n",
       "      <td>train</td>\n",
       "    </tr>\n",
       "    <tr>\n",
       "      <th>3</th>\n",
       "      <td>BF3NC7KV</td>\n",
       "      <td>Male</td>\n",
       "      <td>34</td>\n",
       "      <td>RG270</td>\n",
       "      <td>Salaried</td>\n",
       "      <td>X1</td>\n",
       "      <td>19</td>\n",
       "      <td>No</td>\n",
       "      <td>470454</td>\n",
       "      <td>No</td>\n",
       "      <td>0.0</td>\n",
       "      <td>train</td>\n",
       "    </tr>\n",
       "    <tr>\n",
       "      <th>4</th>\n",
       "      <td>TEASRWXV</td>\n",
       "      <td>Female</td>\n",
       "      <td>30</td>\n",
       "      <td>RG282</td>\n",
       "      <td>Salaried</td>\n",
       "      <td>X1</td>\n",
       "      <td>33</td>\n",
       "      <td>No</td>\n",
       "      <td>886787</td>\n",
       "      <td>No</td>\n",
       "      <td>0.0</td>\n",
       "      <td>train</td>\n",
       "    </tr>\n",
       "  </tbody>\n",
       "</table>\n",
       "</div>"
      ],
      "text/plain": [
       "         ID  Gender  Age  ... Is_Active Is_Lead  jenis\n",
       "0  NNVBBKZB  Female   73  ...        No     0.0  train\n",
       "1  IDD62UNG  Female   30  ...        No     0.0  train\n",
       "2  HD3DSEMC  Female   56  ...       Yes     0.0  train\n",
       "3  BF3NC7KV    Male   34  ...        No     0.0  train\n",
       "4  TEASRWXV  Female   30  ...        No     0.0  train\n",
       "\n",
       "[5 rows x 12 columns]"
      ]
     },
     "execution_count": 59,
     "metadata": {},
     "output_type": "execute_result"
    }
   ],
   "source": [
    "df.head()"
   ]
  },
  {
   "cell_type": "code",
   "execution_count": 60,
   "metadata": {
    "colab": {
     "base_uri": "https://localhost:8080/",
     "height": 386
    },
    "id": "2GWKHRyx0so5",
    "outputId": "84d58bd4-5734-486a-f284-4d2e150604ea"
   },
   "outputs": [
    {
     "data": {
      "text/plain": [
       "<Figure size 576x288 with 0 Axes>"
      ]
     },
     "metadata": {},
     "output_type": "display_data"
    },
    {
     "data": {
      "image/png": "[encoded data removed]",
      "text/plain": [
       "<Figure size 412.125x360 with 1 Axes>"
      ]
     },
     "metadata": {
      "needs_background": "light"
     },
     "output_type": "display_data"
    }
   ],
   "source": [
    "plt.figure(figsize=(8,4))\n",
    "sns.catplot(y='Age', x='Occupation', hue='Is_Active', data=df, kind='bar', palette='Oranges')\n",
    "plt.show()"
   ]
  },
  {
   "cell_type": "markdown",
   "metadata": {
    "id": "31xYfZiLJ_li"
   },
   "source": [
    "#### FEATURE ENGINEERING"
   ]
  },
  {
   "cell_type": "code",
   "execution_count": 61,
   "metadata": {
    "colab": {
     "base_uri": "https://localhost:8080/",
     "height": 202
    },
    "id": "X-sP2k5vJ_lj",
    "outputId": "9343a882-ad65-4620-df4b-a98c86016459"
   },
   "outputs": [
    {
     "data": {
      "text/html": [
       "<div>\n",
       "<style scoped>\n",
       "    .dataframe tbody tr th:only-of-type {\n",
       "        vertical-align: middle;\n",
       "    }\n",
       "\n",
       "    .dataframe tbody tr th {\n",
       "        vertical-align: top;\n",
       "    }\n",
       "\n",
       "    .dataframe thead th {\n",
       "        text-align: right;\n",
       "    }\n",
       "</style>\n",
       "<table border=\"1\" class=\"dataframe\">\n",
       "  <thead>\n",
       "    <tr style=\"text-align: right;\">\n",
       "      <th></th>\n",
       "      <th>ID</th>\n",
       "      <th>Gender</th>\n",
       "      <th>Age</th>\n",
       "      <th>Region_Code</th>\n",
       "      <th>Occupation</th>\n",
       "      <th>Channel_Code</th>\n",
       "      <th>Vintage</th>\n",
       "      <th>Credit_Product</th>\n",
       "      <th>Avg_Account_Balance</th>\n",
       "      <th>Is_Active</th>\n",
       "      <th>Is_Lead</th>\n",
       "      <th>jenis</th>\n",
       "    </tr>\n",
       "  </thead>\n",
       "  <tbody>\n",
       "    <tr>\n",
       "      <th>0</th>\n",
       "      <td>NNVBBKZB</td>\n",
       "      <td>Female</td>\n",
       "      <td>73</td>\n",
       "      <td>RG268</td>\n",
       "      <td>Other</td>\n",
       "      <td>X3</td>\n",
       "      <td>43</td>\n",
       "      <td>No</td>\n",
       "      <td>1045696</td>\n",
       "      <td>0.0</td>\n",
       "      <td>0.0</td>\n",
       "      <td>train</td>\n",
       "    </tr>\n",
       "    <tr>\n",
       "      <th>1</th>\n",
       "      <td>IDD62UNG</td>\n",
       "      <td>Female</td>\n",
       "      <td>30</td>\n",
       "      <td>RG277</td>\n",
       "      <td>Salaried</td>\n",
       "      <td>X1</td>\n",
       "      <td>32</td>\n",
       "      <td>No</td>\n",
       "      <td>581988</td>\n",
       "      <td>0.0</td>\n",
       "      <td>0.0</td>\n",
       "      <td>train</td>\n",
       "    </tr>\n",
       "    <tr>\n",
       "      <th>2</th>\n",
       "      <td>HD3DSEMC</td>\n",
       "      <td>Female</td>\n",
       "      <td>56</td>\n",
       "      <td>RG268</td>\n",
       "      <td>Self_Employed</td>\n",
       "      <td>X3</td>\n",
       "      <td>26</td>\n",
       "      <td>No</td>\n",
       "      <td>1484315</td>\n",
       "      <td>1.0</td>\n",
       "      <td>0.0</td>\n",
       "      <td>train</td>\n",
       "    </tr>\n",
       "    <tr>\n",
       "      <th>3</th>\n",
       "      <td>BF3NC7KV</td>\n",
       "      <td>Male</td>\n",
       "      <td>34</td>\n",
       "      <td>RG270</td>\n",
       "      <td>Salaried</td>\n",
       "      <td>X1</td>\n",
       "      <td>19</td>\n",
       "      <td>No</td>\n",
       "      <td>470454</td>\n",
       "      <td>0.0</td>\n",
       "      <td>0.0</td>\n",
       "      <td>train</td>\n",
       "    </tr>\n",
       "    <tr>\n",
       "      <th>4</th>\n",
       "      <td>TEASRWXV</td>\n",
       "      <td>Female</td>\n",
       "      <td>30</td>\n",
       "      <td>RG282</td>\n",
       "      <td>Salaried</td>\n",
       "      <td>X1</td>\n",
       "      <td>33</td>\n",
       "      <td>No</td>\n",
       "      <td>886787</td>\n",
       "      <td>0.0</td>\n",
       "      <td>0.0</td>\n",
       "      <td>train</td>\n",
       "    </tr>\n",
       "  </tbody>\n",
       "</table>\n",
       "</div>"
      ],
      "text/plain": [
       "         ID  Gender  Age  ... Is_Active Is_Lead  jenis\n",
       "0  NNVBBKZB  Female   73  ...       0.0     0.0  train\n",
       "1  IDD62UNG  Female   30  ...       0.0     0.0  train\n",
       "2  HD3DSEMC  Female   56  ...       1.0     0.0  train\n",
       "3  BF3NC7KV    Male   34  ...       0.0     0.0  train\n",
       "4  TEASRWXV  Female   30  ...       0.0     0.0  train\n",
       "\n",
       "[5 rows x 12 columns]"
      ]
     },
     "execution_count": 61,
     "metadata": {},
     "output_type": "execute_result"
    }
   ],
   "source": [
    "#Mengubah data kategorikal pada kolom \"Is_Active\" menjadi numerik\n",
    "df['Is_Active'].replace(['Yes', 'No'], [1,0], inplace=True)\n",
    "df['Is_Active'] = df['Is_Active'].astype(float)\n",
    "\n",
    "df.head()"
   ]
  },
  {
   "cell_type": "code",
   "execution_count": 62,
   "metadata": {
    "colab": {
     "base_uri": "https://localhost:8080/",
     "height": 202
    },
    "id": "mA2_rQFtuxws",
    "outputId": "0aebd8a1-67a4-450d-f9b2-87a27179612f"
   },
   "outputs": [
    {
     "data": {
      "text/html": [
       "<div>\n",
       "<style scoped>\n",
       "    .dataframe tbody tr th:only-of-type {\n",
       "        vertical-align: middle;\n",
       "    }\n",
       "\n",
       "    .dataframe tbody tr th {\n",
       "        vertical-align: top;\n",
       "    }\n",
       "\n",
       "    .dataframe thead th {\n",
       "        text-align: right;\n",
       "    }\n",
       "</style>\n",
       "<table border=\"1\" class=\"dataframe\">\n",
       "  <thead>\n",
       "    <tr style=\"text-align: right;\">\n",
       "      <th></th>\n",
       "      <th>ID</th>\n",
       "      <th>Gender</th>\n",
       "      <th>Age</th>\n",
       "      <th>Region_Code</th>\n",
       "      <th>Occupation</th>\n",
       "      <th>Channel_Code</th>\n",
       "      <th>Vintage</th>\n",
       "      <th>Credit_Product</th>\n",
       "      <th>Avg_Account_Balance</th>\n",
       "      <th>Is_Active</th>\n",
       "      <th>Is_Lead</th>\n",
       "      <th>jenis</th>\n",
       "    </tr>\n",
       "  </thead>\n",
       "  <tbody>\n",
       "    <tr>\n",
       "      <th>0</th>\n",
       "      <td>NNVBBKZB</td>\n",
       "      <td>0</td>\n",
       "      <td>73</td>\n",
       "      <td>18</td>\n",
       "      <td>1</td>\n",
       "      <td>2</td>\n",
       "      <td>43</td>\n",
       "      <td>1</td>\n",
       "      <td>1045696</td>\n",
       "      <td>0.0</td>\n",
       "      <td>0.0</td>\n",
       "      <td>train</td>\n",
       "    </tr>\n",
       "    <tr>\n",
       "      <th>1</th>\n",
       "      <td>IDD62UNG</td>\n",
       "      <td>0</td>\n",
       "      <td>30</td>\n",
       "      <td>27</td>\n",
       "      <td>2</td>\n",
       "      <td>0</td>\n",
       "      <td>32</td>\n",
       "      <td>1</td>\n",
       "      <td>581988</td>\n",
       "      <td>0.0</td>\n",
       "      <td>0.0</td>\n",
       "      <td>train</td>\n",
       "    </tr>\n",
       "    <tr>\n",
       "      <th>2</th>\n",
       "      <td>HD3DSEMC</td>\n",
       "      <td>0</td>\n",
       "      <td>56</td>\n",
       "      <td>18</td>\n",
       "      <td>3</td>\n",
       "      <td>2</td>\n",
       "      <td>26</td>\n",
       "      <td>1</td>\n",
       "      <td>1484315</td>\n",
       "      <td>1.0</td>\n",
       "      <td>0.0</td>\n",
       "      <td>train</td>\n",
       "    </tr>\n",
       "    <tr>\n",
       "      <th>3</th>\n",
       "      <td>BF3NC7KV</td>\n",
       "      <td>1</td>\n",
       "      <td>34</td>\n",
       "      <td>20</td>\n",
       "      <td>2</td>\n",
       "      <td>0</td>\n",
       "      <td>19</td>\n",
       "      <td>1</td>\n",
       "      <td>470454</td>\n",
       "      <td>0.0</td>\n",
       "      <td>0.0</td>\n",
       "      <td>train</td>\n",
       "    </tr>\n",
       "    <tr>\n",
       "      <th>4</th>\n",
       "      <td>TEASRWXV</td>\n",
       "      <td>0</td>\n",
       "      <td>30</td>\n",
       "      <td>32</td>\n",
       "      <td>2</td>\n",
       "      <td>0</td>\n",
       "      <td>33</td>\n",
       "      <td>1</td>\n",
       "      <td>886787</td>\n",
       "      <td>0.0</td>\n",
       "      <td>0.0</td>\n",
       "      <td>train</td>\n",
       "    </tr>\n",
       "  </tbody>\n",
       "</table>\n",
       "</div>"
      ],
      "text/plain": [
       "         ID  Gender  Age  ...  Is_Active  Is_Lead  jenis\n",
       "0  NNVBBKZB       0   73  ...        0.0      0.0  train\n",
       "1  IDD62UNG       0   30  ...        0.0      0.0  train\n",
       "2  HD3DSEMC       0   56  ...        1.0      0.0  train\n",
       "3  BF3NC7KV       1   34  ...        0.0      0.0  train\n",
       "4  TEASRWXV       0   30  ...        0.0      0.0  train\n",
       "\n",
       "[5 rows x 12 columns]"
      ]
     },
     "execution_count": 62,
     "metadata": {},
     "output_type": "execute_result"
    }
   ],
   "source": [
    "#Ubah semua kolom kategorikal menjadi numerik dengan menggunakan Label Encoder dari library sklearn\n",
    "cat_to_num = ['Gender', 'Region_Code', 'Occupation', 'Channel_Code', 'Credit_Product']\n",
    "\n",
    "label_encode = LabelEncoder()\n",
    "for col in cat_to_num:\n",
    "  df[col] = label_encode.fit_transform(df[col])\n",
    "\n",
    "df_2 = df\n",
    "df_2.head()"
   ]
  },
  {
   "cell_type": "code",
   "execution_count": 63,
   "metadata": {
    "colab": {
     "base_uri": "https://localhost:8080/",
     "height": 202
    },
    "id": "qbQk54rKvl9U",
    "outputId": "bb4180cc-fc72-489f-a7b7-bee29bef42db"
   },
   "outputs": [
    {
     "data": {
      "text/html": [
       "<div>\n",
       "<style scoped>\n",
       "    .dataframe tbody tr th:only-of-type {\n",
       "        vertical-align: middle;\n",
       "    }\n",
       "\n",
       "    .dataframe tbody tr th {\n",
       "        vertical-align: top;\n",
       "    }\n",
       "\n",
       "    .dataframe thead th {\n",
       "        text-align: right;\n",
       "    }\n",
       "</style>\n",
       "<table border=\"1\" class=\"dataframe\">\n",
       "  <thead>\n",
       "    <tr style=\"text-align: right;\">\n",
       "      <th></th>\n",
       "      <th>Gender</th>\n",
       "      <th>Age</th>\n",
       "      <th>Region_Code</th>\n",
       "      <th>Occupation</th>\n",
       "      <th>Channel_Code</th>\n",
       "      <th>Vintage</th>\n",
       "      <th>Credit_Product</th>\n",
       "      <th>Avg_Account_Balance</th>\n",
       "      <th>Is_Active</th>\n",
       "      <th>Is_Lead</th>\n",
       "    </tr>\n",
       "  </thead>\n",
       "  <tbody>\n",
       "    <tr>\n",
       "      <th>0</th>\n",
       "      <td>0</td>\n",
       "      <td>73</td>\n",
       "      <td>18</td>\n",
       "      <td>1</td>\n",
       "      <td>2</td>\n",
       "      <td>43</td>\n",
       "      <td>1</td>\n",
       "      <td>1045696</td>\n",
       "      <td>0.0</td>\n",
       "      <td>0.0</td>\n",
       "    </tr>\n",
       "    <tr>\n",
       "      <th>1</th>\n",
       "      <td>0</td>\n",
       "      <td>30</td>\n",
       "      <td>27</td>\n",
       "      <td>2</td>\n",
       "      <td>0</td>\n",
       "      <td>32</td>\n",
       "      <td>1</td>\n",
       "      <td>581988</td>\n",
       "      <td>0.0</td>\n",
       "      <td>0.0</td>\n",
       "    </tr>\n",
       "    <tr>\n",
       "      <th>2</th>\n",
       "      <td>0</td>\n",
       "      <td>56</td>\n",
       "      <td>18</td>\n",
       "      <td>3</td>\n",
       "      <td>2</td>\n",
       "      <td>26</td>\n",
       "      <td>1</td>\n",
       "      <td>1484315</td>\n",
       "      <td>1.0</td>\n",
       "      <td>0.0</td>\n",
       "    </tr>\n",
       "    <tr>\n",
       "      <th>3</th>\n",
       "      <td>1</td>\n",
       "      <td>34</td>\n",
       "      <td>20</td>\n",
       "      <td>2</td>\n",
       "      <td>0</td>\n",
       "      <td>19</td>\n",
       "      <td>1</td>\n",
       "      <td>470454</td>\n",
       "      <td>0.0</td>\n",
       "      <td>0.0</td>\n",
       "    </tr>\n",
       "    <tr>\n",
       "      <th>4</th>\n",
       "      <td>0</td>\n",
       "      <td>30</td>\n",
       "      <td>32</td>\n",
       "      <td>2</td>\n",
       "      <td>0</td>\n",
       "      <td>33</td>\n",
       "      <td>1</td>\n",
       "      <td>886787</td>\n",
       "      <td>0.0</td>\n",
       "      <td>0.0</td>\n",
       "    </tr>\n",
       "  </tbody>\n",
       "</table>\n",
       "</div>"
      ],
      "text/plain": [
       "   Gender  Age  Region_Code  ...  Avg_Account_Balance  Is_Active  Is_Lead\n",
       "0       0   73           18  ...              1045696        0.0      0.0\n",
       "1       0   30           27  ...               581988        0.0      0.0\n",
       "2       0   56           18  ...              1484315        1.0      0.0\n",
       "3       1   34           20  ...               470454        0.0      0.0\n",
       "4       0   30           32  ...               886787        0.0      0.0\n",
       "\n",
       "[5 rows x 10 columns]"
      ]
     },
     "execution_count": 63,
     "metadata": {},
     "output_type": "execute_result"
    }
   ],
   "source": [
    "df_train = df_2.loc[df_2['jenis'] == 'train']\n",
    "df_test = df_2.loc[df_2['jenis'] == 'test']\n",
    "df_1 = df_train\n",
    "\n",
    "df_1.drop(columns=['ID', 'jenis'], inplace=True)\n",
    "df_1.head()"
   ]
  },
  {
   "cell_type": "markdown",
   "metadata": {
    "id": "0EvCWZS02UbA"
   },
   "source": [
    "#### DATA PREPROCESSING"
   ]
  },
  {
   "cell_type": "code",
   "execution_count": 64,
   "metadata": {
    "id": "lVBsUN1M2T6v"
   },
   "outputs": [],
   "source": [
    "#menghitung kelas mayoritas dan minoritas\n",
    "df_majority = df_1[df_1['Is_Lead'] == 0]\n",
    "df_minority = df_1[df_1['Is_Lead'] == 1]"
   ]
  },
  {
   "cell_type": "code",
   "execution_count": 65,
   "metadata": {
    "colab": {
     "base_uri": "https://localhost:8080/"
    },
    "id": "qAokOVu2KReH",
    "outputId": "1ce3ed5b-bc0c-4ddf-a95d-7a13b2aaeb7f"
   },
   "outputs": [
    {
     "name": "stdout",
     "output_type": "stream",
     "text": [
      "Kelas Mayoritas : 187437\n",
      "Kelas Minoritas : 58288\n",
      "Rasio dari kedua kelas : 3.215704776283283\n"
     ]
    }
   ],
   "source": [
    "print('Kelas Mayoritas :', len(df_majority))\n",
    "print('Kelas Minoritas :', len(df_minority))\n",
    "print('Rasio dari kedua kelas :', len(df_majority)/len(df_minority))"
   ]
  },
  {
   "cell_type": "code",
   "execution_count": 66,
   "metadata": {
    "id": "bg9N8C2OKoG7"
   },
   "outputs": [],
   "source": [
    "df_majority_undersampled = resample(df_majority, replace=True, n_samples=len(df_minority), random_state=0)\n",
    "df_undersampled = pd.concat([df_minority, df_majority_undersampled])\n",
    "\n",
    "df_undersampled['Is_Lead'].value_counts()\n",
    "df_1 = df_undersampled"
   ]
  },
  {
   "cell_type": "code",
   "execution_count": 67,
   "metadata": {
    "colab": {
     "base_uri": "https://localhost:8080/"
    },
    "id": "64gT5KCgLGjC",
    "outputId": "cfb36f08-d792-4afa-a4f7-fd466649c7fd"
   },
   "outputs": [
    {
     "name": "stdout",
     "output_type": "stream",
     "text": [
      "Kelas Undersample sebanyak : 116576\n",
      "Rasio dari kedua kelas : 1.2114813044291564\n"
     ]
    }
   ],
   "source": [
    "print('Kelas Undersample sebanyak :', len(df_undersampled))\n",
    "print('Rasio dari kedua kelas :', len(df_undersampled[df_undersampled['Is_Lead']==0])/len(df_undersampled[df_undersampled['Is_Active'] == 1]))"
   ]
  },
  {
   "cell_type": "code",
   "execution_count": 68,
   "metadata": {
    "id": "UEVS-VLWLoqA"
   },
   "outputs": [],
   "source": [
    "#Drop variabel target\n",
    "xc = df_1.drop(columns=['Is_Lead'])\n",
    "yc = df_1[['Is_Lead']]"
   ]
  },
  {
   "cell_type": "code",
   "execution_count": 69,
   "metadata": {
    "colab": {
     "base_uri": "https://localhost:8080/",
     "height": 202
    },
    "id": "fvcl9wnEL8if",
    "outputId": "49322381-a306-48c3-e27f-21189ea74021"
   },
   "outputs": [
    {
     "data": {
      "text/html": [
       "<div>\n",
       "<style scoped>\n",
       "    .dataframe tbody tr th:only-of-type {\n",
       "        vertical-align: middle;\n",
       "    }\n",
       "\n",
       "    .dataframe tbody tr th {\n",
       "        vertical-align: top;\n",
       "    }\n",
       "\n",
       "    .dataframe thead th {\n",
       "        text-align: right;\n",
       "    }\n",
       "</style>\n",
       "<table border=\"1\" class=\"dataframe\">\n",
       "  <thead>\n",
       "    <tr style=\"text-align: right;\">\n",
       "      <th></th>\n",
       "      <th>Gender</th>\n",
       "      <th>Age</th>\n",
       "      <th>Region_Code</th>\n",
       "      <th>Occupation</th>\n",
       "      <th>Channel_Code</th>\n",
       "      <th>Vintage</th>\n",
       "      <th>Credit_Product</th>\n",
       "      <th>Avg_Account_Balance</th>\n",
       "      <th>Is_Active</th>\n",
       "      <th>Is_Lead</th>\n",
       "    </tr>\n",
       "  </thead>\n",
       "  <tbody>\n",
       "    <tr>\n",
       "      <th>6</th>\n",
       "      <td>1</td>\n",
       "      <td>62</td>\n",
       "      <td>32</td>\n",
       "      <td>1</td>\n",
       "      <td>2</td>\n",
       "      <td>20</td>\n",
       "      <td>0</td>\n",
       "      <td>1056750</td>\n",
       "      <td>1.0</td>\n",
       "      <td>1.0</td>\n",
       "    </tr>\n",
       "    <tr>\n",
       "      <th>15</th>\n",
       "      <td>1</td>\n",
       "      <td>33</td>\n",
       "      <td>18</td>\n",
       "      <td>3</td>\n",
       "      <td>1</td>\n",
       "      <td>69</td>\n",
       "      <td>0</td>\n",
       "      <td>517063</td>\n",
       "      <td>1.0</td>\n",
       "      <td>1.0</td>\n",
       "    </tr>\n",
       "    <tr>\n",
       "      <th>16</th>\n",
       "      <td>0</td>\n",
       "      <td>46</td>\n",
       "      <td>18</td>\n",
       "      <td>1</td>\n",
       "      <td>2</td>\n",
       "      <td>97</td>\n",
       "      <td>2</td>\n",
       "      <td>2282502</td>\n",
       "      <td>0.0</td>\n",
       "      <td>1.0</td>\n",
       "    </tr>\n",
       "    <tr>\n",
       "      <th>17</th>\n",
       "      <td>0</td>\n",
       "      <td>59</td>\n",
       "      <td>33</td>\n",
       "      <td>1</td>\n",
       "      <td>2</td>\n",
       "      <td>15</td>\n",
       "      <td>2</td>\n",
       "      <td>2384692</td>\n",
       "      <td>0.0</td>\n",
       "      <td>1.0</td>\n",
       "    </tr>\n",
       "    <tr>\n",
       "      <th>20</th>\n",
       "      <td>1</td>\n",
       "      <td>44</td>\n",
       "      <td>19</td>\n",
       "      <td>3</td>\n",
       "      <td>1</td>\n",
       "      <td>19</td>\n",
       "      <td>2</td>\n",
       "      <td>1001650</td>\n",
       "      <td>0.0</td>\n",
       "      <td>1.0</td>\n",
       "    </tr>\n",
       "  </tbody>\n",
       "</table>\n",
       "</div>"
      ],
      "text/plain": [
       "    Gender  Age  Region_Code  ...  Avg_Account_Balance  Is_Active  Is_Lead\n",
       "6        1   62           32  ...              1056750        1.0      1.0\n",
       "15       1   33           18  ...               517063        1.0      1.0\n",
       "16       0   46           18  ...              2282502        0.0      1.0\n",
       "17       0   59           33  ...              2384692        0.0      1.0\n",
       "20       1   44           19  ...              1001650        0.0      1.0\n",
       "\n",
       "[5 rows x 10 columns]"
      ]
     },
     "execution_count": 69,
     "metadata": {},
     "output_type": "execute_result"
    }
   ],
   "source": [
    "df_1.head()"
   ]
  },
  {
   "cell_type": "code",
   "execution_count": 70,
   "metadata": {
    "id": "5-KX8lXHL-MQ"
   },
   "outputs": [],
   "source": [
    "#Standarisasi data\n",
    "sc = StandardScaler()\n",
    "df_xc = pd.DataFrame(sc.fit_transform(xc), columns=xc.columns)"
   ]
  },
  {
   "cell_type": "markdown",
   "metadata": {
    "id": "5w3A1_M7J_lj"
   },
   "source": [
    "#### MODELING"
   ]
  },
  {
   "cell_type": "code",
   "execution_count": 71,
   "metadata": {
    "id": "ZmzbDlQBUPxI"
   },
   "outputs": [],
   "source": [
    "#Membuat fungsi untuk menghitung score dari masing-masing model\n",
    "def max_accuracy_scr(names,model_c,df_xc,yc):\n",
    "    accuracy_scr_max = 0\n",
    "    roc_scr_max = 0\n",
    "    train_xc,test_xc,train_yc,test_yc = train_test_split(df_xc,yc,random_state = 42,test_size = 0.2,stratify = yc)\n",
    "    model_c.fit(train_xc,train_yc)\n",
    "    pred = model_c.predict_proba(test_xc)[:, 1]\n",
    "    roc_score = roc_auc_score(test_yc, pred)\n",
    "    accuracy_scr = accuracy_score(test_yc,model_c.predict(test_xc))\n",
    "    if roc_score > roc_scr_max:\n",
    "      roc_scr_max = roc_score\n",
    "      final_model = model_c\n",
    "      mean_acc = cross_val_score(final_model,df_xc,yc,cv=5,scoring=\"accuracy\").mean()\n",
    "      std_dev = cross_val_score(final_model,df_xc,yc,cv=5,scoring=\"accuracy\").std()\n",
    "      cross_val = cross_val_score(final_model,df_xc,yc,cv=5,scoring=\"accuracy\")\n",
    "    print(\"=\"*65)\n",
    "    print(\"Model : \",names,'\\n',\n",
    "          \"Max ROC score sesuai dengan random state \" ,roc_scr_max ,'\\n',\n",
    "          \"Mean accuracy score :\",mean_acc,'\\n',\n",
    "          \"Std deviation score :\",std_dev,'\\n',\n",
    "          \"Cross validation scores :\" ,cross_val) \n",
    "    print(f\"roc_auc_score: {roc_score}\")\n",
    "    print(\"=\"*65)"
   ]
  },
  {
   "cell_type": "code",
   "execution_count": 72,
   "metadata": {
    "colab": {
     "base_uri": "https://localhost:8080/"
    },
    "id": "dEhu617XsQeA",
    "outputId": "edff82f8-e6f3-4e12-b0df-a3609ad57375"
   },
   "outputs": [
    {
     "name": "stdout",
     "output_type": "stream",
     "text": [
      "=================================================================\n",
      "Model :  Logistic Regression \n",
      " Max ROC score sesuai dengan random state  0.727315712597147 \n",
      " Mean accuracy score : 0.6696918411779096 \n",
      " Std deviation score : 0.0030322593046897828 \n",
      " Cross validation scores : [0.67361469 0.66566588 0.66703839 0.67239974 0.66974051]\n",
      "roc_auc_score: 0.727315712597147\n",
      "=================================================================\n",
      "=================================================================\n",
      "Model :  Random Forest \n",
      " Max ROC score sesuai dengan random state  0.8800927729829505 \n",
      " Mean accuracy score : 0.8115735722358428 \n",
      " Std deviation score : 0.0014062596662328885 \n",
      " Cross validation scores : [0.80910105 0.81007935 0.80995068 0.80926442 0.81569805]\n",
      "roc_auc_score: 0.8800927729829505\n",
      "=================================================================\n",
      "=================================================================\n",
      "Model :  Decision Tree Classifier \n",
      " Max ROC score sesuai dengan random state  0.7408646423057128 \n",
      " Mean accuracy score : 0.742519887786253 \n",
      " Std deviation score : 0.002876818684532816 \n",
      " Cross validation scores : [0.74558243 0.74093931 0.7405104  0.73875188 0.74655801]\n",
      "roc_auc_score: 0.7408646423057128\n",
      "=================================================================\n"
     ]
    }
   ],
   "source": [
    "accuracy_scr_max = []\n",
    "models = []\n",
    "std_dev = []\n",
    "roc_auc = []\n",
    "mean_acc = []\n",
    "cross_val = []\n",
    "\n",
    "#Membandingkan 3 model\n",
    "models.append(('Logistic Regression', LogisticRegression()))\n",
    "models.append(('Random Forest', RandomForestClassifier()))\n",
    "models.append(('Decision Tree Classifier',DecisionTreeClassifier()))\n",
    "\n",
    "for names,model_c in models:\n",
    "    max_accuracy_scr(names,model_c,df_xc,yc)"
   ]
  },
  {
   "cell_type": "markdown",
   "metadata": {
    "id": "Wo9V-jr_xjwN"
   },
   "source": [
    "#### EVALUATION"
   ]
  },
  {
   "cell_type": "code",
   "execution_count": 73,
   "metadata": {
    "colab": {
     "base_uri": "https://localhost:8080/"
    },
    "id": "yc8Rx34_UuG-",
    "outputId": "e1213849-8ee8-40a9-8f9a-e5d5bd3f45ba"
   },
   "outputs": [
    {
     "name": "stdout",
     "output_type": "stream",
     "text": [
      "Best Parameter :  {'n_estimators': 100} \n",
      "Best Estimator :  RandomForestClassifier(bootstrap=True, ccp_alpha=0.0, class_weight=None,\n",
      "                       criterion='gini', max_depth=None, max_features='auto',\n",
      "                       max_leaf_nodes=None, max_samples=None,\n",
      "                       min_impurity_decrease=0.0, min_impurity_split=None,\n",
      "                       min_samples_leaf=1, min_samples_split=2,\n",
      "                       min_weight_fraction_leaf=0.0, n_estimators=100,\n",
      "                       n_jobs=None, oob_score=False, random_state=None,\n",
      "                       verbose=0, warm_start=False) \n",
      "Best Score :  0.8809923926857754\n"
     ]
    }
   ],
   "source": [
    "#Melakukan Hyperparameter Tuning\n",
    "parameters = {\"n_estimators\":[1,10,100]}\n",
    "rf_clf = RandomForestClassifier()\n",
    "clf = GridSearchCV(rf_clf, parameters, cv=5,scoring=\"roc_auc\")\n",
    "clf.fit(df_xc,yc)\n",
    "print(\"Best Parameter : \",clf.best_params_,\"\\nBest Estimator : \", clf.best_estimator_,\"\\nBest Score : \", clf.best_score_)"
   ]
  },
  {
   "cell_type": "code",
   "execution_count": 74,
   "metadata": {
    "colab": {
     "base_uri": "https://localhost:8080/"
    },
    "id": "T6xfhZ__J_lk",
    "outputId": "ae62aba0-008e-489c-af7f-7812012a14da"
   },
   "outputs": [
    {
     "name": "stdout",
     "output_type": "stream",
     "text": [
      "=================================================================\n",
      "Model :  RandomForest Classifier \n",
      " Max ROC score sesuai dengan random state  0.879415808805665 \n",
      " Mean accuracy score : 0.8115392510996895 \n",
      " Std deviation score : 0.0008997445291505284 \n",
      " Cross validation scores : [0.81180305 0.81136607 0.81106584 0.81037958 0.81308171]\n",
      "roc_auc_score: 0.879415808805665\n",
      "=================================================================\n"
     ]
    }
   ],
   "source": [
    "rf_clf = RandomForestClassifier(n_estimators=100,random_state=42)\n",
    "max_accuracy_scr(\"RandomForest Classifier\",rf_clf,df_xc,yc)"
   ]
  },
  {
   "cell_type": "code",
   "execution_count": 75,
   "metadata": {
    "id": "E5paGOXLvdsK"
   },
   "outputs": [],
   "source": [
    "xc_train,xc_test,yc_train,yc_test=train_test_split(df_xc, yc,random_state = 80,test_size=0.20,stratify=yc)\n",
    "rf_clf.fit(xc_train,yc_train)\n",
    "yc_pred = rf_clf.predict(xc_test)"
   ]
  },
  {
   "cell_type": "code",
   "execution_count": 76,
   "metadata": {
    "colab": {
     "base_uri": "https://localhost:8080/",
     "height": 548
    },
    "id": "BIGATCOxviK5",
    "outputId": "1d05f2c5-355e-4448-a0bf-ed2bb7d7f72e"
   },
   "outputs": [
    {
     "name": "stdout",
     "output_type": "stream",
     "text": [
      " ROC_AUC score is  0.8804566893762799\n",
      "accuracy score is :  0.8127466117687425\n",
      "Precision is :  0.8397949673811743\n",
      "Recall is:  0.7729456167438669\n",
      "F1 Score is :  0.8049848132928354\n",
      "classification report \n",
      "               precision    recall  f1-score   support\n",
      "\n",
      "         0.0       0.79      0.85      0.82     11658\n",
      "         1.0       0.84      0.77      0.80     11658\n",
      "\n",
      "    accuracy                           0.81     23316\n",
      "   macro avg       0.81      0.81      0.81     23316\n",
      "weighted avg       0.81      0.81      0.81     23316\n",
      "\n"
     ]
    },
    {
     "data": {
      "text/plain": [
       "<matplotlib.axes._subplots.AxesSubplot at 0x7fa97ddb0250>"
      ]
     },
     "execution_count": 76,
     "metadata": {},
     "output_type": "execute_result"
    },
    {
     "data": {
      "image/png": "[encoded data removed]",
      "text/plain": [
       "<Figure size 432x288 with 2 Axes>"
      ]
     },
     "metadata": {
      "needs_background": "light"
     },
     "output_type": "display_data"
    }
   ],
   "source": [
    "pred_pb=rf_clf.predict_proba(xc_test)[:,1]\n",
    "Fpr,Tpr,thresholds = roc_curve(yc_test,pred_pb,pos_label=True)\n",
    "auc = roc_auc_score(yc_test,pred_pb)\n",
    "\n",
    "print(\" ROC_AUC score is \",auc)\n",
    "print(\"accuracy score is : \",accuracy_score(yc_test,yc_pred))\n",
    "print(\"Precision is : \" ,precision_score(yc_test, yc_pred))\n",
    "print(\"Recall is: \" ,recall_score(yc_test, yc_pred))\n",
    "print(\"F1 Score is : \" ,f1_score(yc_test, yc_pred))\n",
    "print(\"classification report \\n\",classification_report(yc_test,yc_pred))\n",
    "\n",
    "#plot confusion matrix\n",
    "cnf = confusion_matrix(yc_test,yc_pred)\n",
    "sns.heatmap(cnf, annot=True, cmap = \"magma\")"
   ]
  },
  {
   "cell_type": "code",
   "execution_count": 77,
   "metadata": {
    "colab": {
     "base_uri": "https://localhost:8080/",
     "height": 295
    },
    "id": "iDlrC5ySvtoR",
    "outputId": "92255cc9-a53e-41fd-b40e-91ca9427df23"
   },
   "outputs": [
    {
     "data": {
      "image/png": "[encoded data removed]",
      "text/plain": [
       "<Figure size 432x288 with 1 Axes>"
      ]
     },
     "metadata": {
      "needs_background": "light"
     },
     "output_type": "display_data"
    }
   ],
   "source": [
    "plt.plot([0,1],[1,0],'g--')\n",
    "plt.plot(Fpr,Tpr)\n",
    "plt.xlabel('False_Positive_Rate')\n",
    "plt.ylabel('True_Positive_Rate')\n",
    "plt.title(\"Random Forest Classifier\")\n",
    "plt.show()"
   ]
  },
  {
   "cell_type": "markdown",
   "metadata": {
    "id": "qLZAG3gUKPHg"
   },
   "source": [
    "### LOAD AND PREDICT NEW DATA"
   ]
  },
  {
   "cell_type": "code",
   "execution_count": 78,
   "metadata": {
    "id": "lYpKG-VWKPwT"
   },
   "outputs": [],
   "source": [
    "df_3 = df_test"
   ]
  },
  {
   "cell_type": "code",
   "execution_count": 79,
   "metadata": {
    "colab": {
     "base_uri": "https://localhost:8080/",
     "height": 202
    },
    "id": "lrAY9MRhv9e6",
    "outputId": "e34bc7f4-54c7-426c-acbf-7659a871f78d"
   },
   "outputs": [
    {
     "data": {
      "text/html": [
       "<div>\n",
       "<style scoped>\n",
       "    .dataframe tbody tr th:only-of-type {\n",
       "        vertical-align: middle;\n",
       "    }\n",
       "\n",
       "    .dataframe tbody tr th {\n",
       "        vertical-align: top;\n",
       "    }\n",
       "\n",
       "    .dataframe thead th {\n",
       "        text-align: right;\n",
       "    }\n",
       "</style>\n",
       "<table border=\"1\" class=\"dataframe\">\n",
       "  <thead>\n",
       "    <tr style=\"text-align: right;\">\n",
       "      <th></th>\n",
       "      <th>ID</th>\n",
       "      <th>Gender</th>\n",
       "      <th>Age</th>\n",
       "      <th>Region_Code</th>\n",
       "      <th>Occupation</th>\n",
       "      <th>Channel_Code</th>\n",
       "      <th>Vintage</th>\n",
       "      <th>Credit_Product</th>\n",
       "      <th>Avg_Account_Balance</th>\n",
       "      <th>Is_Active</th>\n",
       "      <th>Is_Lead</th>\n",
       "    </tr>\n",
       "  </thead>\n",
       "  <tbody>\n",
       "    <tr>\n",
       "      <th>245725</th>\n",
       "      <td>VBENBARO</td>\n",
       "      <td>1</td>\n",
       "      <td>29</td>\n",
       "      <td>4</td>\n",
       "      <td>1</td>\n",
       "      <td>0</td>\n",
       "      <td>25</td>\n",
       "      <td>2</td>\n",
       "      <td>742366</td>\n",
       "      <td>0.0</td>\n",
       "      <td>NaN</td>\n",
       "    </tr>\n",
       "    <tr>\n",
       "      <th>245726</th>\n",
       "      <td>CCMEWNKY</td>\n",
       "      <td>1</td>\n",
       "      <td>43</td>\n",
       "      <td>18</td>\n",
       "      <td>1</td>\n",
       "      <td>1</td>\n",
       "      <td>49</td>\n",
       "      <td>0</td>\n",
       "      <td>925537</td>\n",
       "      <td>0.0</td>\n",
       "      <td>NaN</td>\n",
       "    </tr>\n",
       "    <tr>\n",
       "      <th>245727</th>\n",
       "      <td>VK3KGA9M</td>\n",
       "      <td>1</td>\n",
       "      <td>31</td>\n",
       "      <td>20</td>\n",
       "      <td>2</td>\n",
       "      <td>0</td>\n",
       "      <td>14</td>\n",
       "      <td>1</td>\n",
       "      <td>215949</td>\n",
       "      <td>0.0</td>\n",
       "      <td>NaN</td>\n",
       "    </tr>\n",
       "    <tr>\n",
       "      <th>245728</th>\n",
       "      <td>TT8RPZVC</td>\n",
       "      <td>1</td>\n",
       "      <td>29</td>\n",
       "      <td>22</td>\n",
       "      <td>1</td>\n",
       "      <td>0</td>\n",
       "      <td>33</td>\n",
       "      <td>1</td>\n",
       "      <td>868070</td>\n",
       "      <td>0.0</td>\n",
       "      <td>NaN</td>\n",
       "    </tr>\n",
       "    <tr>\n",
       "      <th>245729</th>\n",
       "      <td>SHQZEYTZ</td>\n",
       "      <td>0</td>\n",
       "      <td>29</td>\n",
       "      <td>20</td>\n",
       "      <td>1</td>\n",
       "      <td>0</td>\n",
       "      <td>19</td>\n",
       "      <td>1</td>\n",
       "      <td>657087</td>\n",
       "      <td>0.0</td>\n",
       "      <td>NaN</td>\n",
       "    </tr>\n",
       "  </tbody>\n",
       "</table>\n",
       "</div>"
      ],
      "text/plain": [
       "              ID  Gender  Age  ...  Avg_Account_Balance  Is_Active  Is_Lead\n",
       "245725  VBENBARO       1   29  ...               742366        0.0      NaN\n",
       "245726  CCMEWNKY       1   43  ...               925537        0.0      NaN\n",
       "245727  VK3KGA9M       1   31  ...               215949        0.0      NaN\n",
       "245728  TT8RPZVC       1   29  ...               868070        0.0      NaN\n",
       "245729  SHQZEYTZ       0   29  ...               657087        0.0      NaN\n",
       "\n",
       "[5 rows x 11 columns]"
      ]
     },
     "execution_count": 79,
     "metadata": {},
     "output_type": "execute_result"
    }
   ],
   "source": [
    "df_3.drop(columns=[\"jenis\"],inplace=True)\n",
    "df_3.head()"
   ]
  },
  {
   "cell_type": "code",
   "execution_count": 80,
   "metadata": {
    "id": "PtvXkifpwDn-"
   },
   "outputs": [],
   "source": [
    "xc_pred = df_3.drop(columns=['Is_Lead',\"ID\"])\n",
    "\n",
    "#Standarisasi data\n",
    "sc = StandardScaler()\n",
    "df_xc_pred = pd.DataFrame(sc.fit_transform(xc_pred),columns=xc_pred.columns)"
   ]
  },
  {
   "cell_type": "code",
   "execution_count": 81,
   "metadata": {
    "colab": {
     "base_uri": "https://localhost:8080/"
    },
    "id": "UQVIuBWWwPPg",
    "outputId": "5f37b9e6-575c-4caf-861f-606f73e70a50"
   },
   "outputs": [
    {
     "name": "stdout",
     "output_type": "stream",
     "text": [
      "[0.17 0.97 0.09 ... 0.5  0.09 0.15]\n"
     ]
    }
   ],
   "source": [
    "lead_pred_rf = rf_clf.predict_proba(df_xc_pred)[:,1]\n",
    "print(lead_pred_rf)"
   ]
  },
  {
   "cell_type": "code",
   "execution_count": 82,
   "metadata": {
    "colab": {
     "base_uri": "https://localhost:8080/",
     "height": 202
    },
    "id": "3aIcqhQGwjU0",
    "outputId": "9afcc2ae-be6c-4a7f-e035-ca753f88d42c"
   },
   "outputs": [
    {
     "data": {
      "text/html": [
       "<div>\n",
       "<style scoped>\n",
       "    .dataframe tbody tr th:only-of-type {\n",
       "        vertical-align: middle;\n",
       "    }\n",
       "\n",
       "    .dataframe tbody tr th {\n",
       "        vertical-align: top;\n",
       "    }\n",
       "\n",
       "    .dataframe thead th {\n",
       "        text-align: right;\n",
       "    }\n",
       "</style>\n",
       "<table border=\"1\" class=\"dataframe\">\n",
       "  <thead>\n",
       "    <tr style=\"text-align: right;\">\n",
       "      <th></th>\n",
       "      <th>index</th>\n",
       "      <th>ID</th>\n",
       "      <th>Gender</th>\n",
       "      <th>Age</th>\n",
       "      <th>Region_Code</th>\n",
       "      <th>Occupation</th>\n",
       "      <th>Channel_Code</th>\n",
       "      <th>Vintage</th>\n",
       "      <th>Credit_Product</th>\n",
       "      <th>Avg_Account_Balance</th>\n",
       "      <th>Is_Active</th>\n",
       "      <th>Is_Lead</th>\n",
       "    </tr>\n",
       "  </thead>\n",
       "  <tbody>\n",
       "    <tr>\n",
       "      <th>0</th>\n",
       "      <td>245725</td>\n",
       "      <td>VBENBARO</td>\n",
       "      <td>1</td>\n",
       "      <td>29</td>\n",
       "      <td>4</td>\n",
       "      <td>1</td>\n",
       "      <td>0</td>\n",
       "      <td>25</td>\n",
       "      <td>2</td>\n",
       "      <td>742366</td>\n",
       "      <td>0.0</td>\n",
       "      <td>NaN</td>\n",
       "    </tr>\n",
       "    <tr>\n",
       "      <th>1</th>\n",
       "      <td>245726</td>\n",
       "      <td>CCMEWNKY</td>\n",
       "      <td>1</td>\n",
       "      <td>43</td>\n",
       "      <td>18</td>\n",
       "      <td>1</td>\n",
       "      <td>1</td>\n",
       "      <td>49</td>\n",
       "      <td>0</td>\n",
       "      <td>925537</td>\n",
       "      <td>0.0</td>\n",
       "      <td>NaN</td>\n",
       "    </tr>\n",
       "    <tr>\n",
       "      <th>2</th>\n",
       "      <td>245727</td>\n",
       "      <td>VK3KGA9M</td>\n",
       "      <td>1</td>\n",
       "      <td>31</td>\n",
       "      <td>20</td>\n",
       "      <td>2</td>\n",
       "      <td>0</td>\n",
       "      <td>14</td>\n",
       "      <td>1</td>\n",
       "      <td>215949</td>\n",
       "      <td>0.0</td>\n",
       "      <td>NaN</td>\n",
       "    </tr>\n",
       "    <tr>\n",
       "      <th>3</th>\n",
       "      <td>245728</td>\n",
       "      <td>TT8RPZVC</td>\n",
       "      <td>1</td>\n",
       "      <td>29</td>\n",
       "      <td>22</td>\n",
       "      <td>1</td>\n",
       "      <td>0</td>\n",
       "      <td>33</td>\n",
       "      <td>1</td>\n",
       "      <td>868070</td>\n",
       "      <td>0.0</td>\n",
       "      <td>NaN</td>\n",
       "    </tr>\n",
       "    <tr>\n",
       "      <th>4</th>\n",
       "      <td>245729</td>\n",
       "      <td>SHQZEYTZ</td>\n",
       "      <td>0</td>\n",
       "      <td>29</td>\n",
       "      <td>20</td>\n",
       "      <td>1</td>\n",
       "      <td>0</td>\n",
       "      <td>19</td>\n",
       "      <td>1</td>\n",
       "      <td>657087</td>\n",
       "      <td>0.0</td>\n",
       "      <td>NaN</td>\n",
       "    </tr>\n",
       "  </tbody>\n",
       "</table>\n",
       "</div>"
      ],
      "text/plain": [
       "    index        ID  Gender  ...  Avg_Account_Balance  Is_Active  Is_Lead\n",
       "0  245725  VBENBARO       1  ...               742366        0.0      NaN\n",
       "1  245726  CCMEWNKY       1  ...               925537        0.0      NaN\n",
       "2  245727  VK3KGA9M       1  ...               215949        0.0      NaN\n",
       "3  245728  TT8RPZVC       1  ...               868070        0.0      NaN\n",
       "4  245729  SHQZEYTZ       0  ...               657087        0.0      NaN\n",
       "\n",
       "[5 rows x 12 columns]"
      ]
     },
     "execution_count": 82,
     "metadata": {},
     "output_type": "execute_result"
    }
   ],
   "source": [
    "lead_pred_rf= pd.DataFrame(lead_pred_rf,columns=[\"Is_Lead\"])\n",
    "\n",
    "df_test = df_test.reset_index()\n",
    "df_test.head()"
   ]
  },
  {
   "cell_type": "code",
   "execution_count": 83,
   "metadata": {
    "colab": {
     "base_uri": "https://localhost:8080/"
    },
    "id": "an-tz68fwuNT",
    "outputId": "9e27724b-ded9-4e67-dd6f-aa346c39de52"
   },
   "outputs": [
    {
     "name": "stdout",
     "output_type": "stream",
     "text": [
      "              ID  Is_Lead\n",
      "0       VBENBARO     0.17\n",
      "1       CCMEWNKY     0.97\n",
      "2       VK3KGA9M     0.09\n",
      "3       TT8RPZVC     0.12\n",
      "4       SHQZEYTZ     0.09\n",
      "...          ...      ...\n",
      "105307  DBENJOYI     0.97\n",
      "105308  CWQ72DWS     0.92\n",
      "105309  HDESC8GU     0.50\n",
      "105310  2PW4SFCA     0.09\n",
      "105311  F2NOYPPZ     0.15\n",
      "\n",
      "[105312 rows x 2 columns]\n"
     ]
    }
   ],
   "source": [
    "df_pred_rf = pd.concat([df_test[\"ID\"],lead_pred_rf],axis=1,ignore_index=True)\n",
    "df_pred_rf.columns = [\"ID\",\"Is_Lead\"]\n",
    "print(df_pred_rf)"
   ]
  },
  {
   "cell_type": "code",
   "execution_count": 87,
   "metadata": {
    "colab": {
     "base_uri": "https://localhost:8080/"
    },
    "id": "8V0uR7yRyYgx",
    "outputId": "afaa2135-e86e-4b60-b005-d1133dba2ada"
   },
   "outputs": [
    {
     "name": "stdout",
     "output_type": "stream",
     "text": [
      "Tertarik : 36063\n",
      "Tidak Tertarik : 69249\n"
     ]
    }
   ],
   "source": [
    "#interested, ketika hasil prediksi >= 0.5, sementara not_interested sebaliknya\n",
    "interested = len(df_pred_rf[df_pred_rf['Is_Lead'] >= 0.5])\n",
    "not_interested = len(df_pred_rf[df_pred_rf['Is_Lead'] < 0.5])\n",
    "\n",
    "print(\"Tertarik :\",interested)\n",
    "print(\"Tidak Tertarik :\",not_interested)"
   ]
  },
  {
   "cell_type": "code",
   "execution_count": 85,
   "metadata": {
    "colab": {
     "base_uri": "https://localhost:8080/",
     "height": 264
    },
    "id": "eeYlPVJ7N8h4",
    "outputId": "26db3e7e-ed01-4d7e-db72-ca700701a79a"
   },
   "outputs": [
    {
     "data": {
      "image/png": "[encoded data removed]",
      "text/plain": [
       "<Figure size 432x288 with 1 Axes>"
      ]
     },
     "metadata": {},
     "output_type": "display_data"
    }
   ],
   "source": [
    "#Melakukan plot pie chart terhadap hasil prediksi customer yang tertarik dan tidak tertarik\n",
    "my_labels = 'Tidak Tertarik','Tertarik'\n",
    "data_predict = {'Is_Lead': [interested, not_interested]}\n",
    "df = pd.DataFrame(data_predict, columns=['Is_Lead'])\n",
    "my_explode = (0, 0.1)\n",
    "my_colors = ['silver', '#66b3ff']\n",
    "plt.pie(df, labels=my_labels,autopct='%1.1f%%', colors=my_colors, startangle=90, shadow = True, explode=my_explode)\n",
    "plt.title('Hasil Prediksi')\n",
    "plt.axis('equal')\n",
    "plt.show()"
   ]
  },
  {
   "cell_type": "markdown",
   "metadata": {
    "id": "qFWul082J_lk"
   },
   "source": [
    "### KESIMPULAN/SARAN"
   ]
  },
  {
   "cell_type": "markdown",
   "metadata": {
    "id": "ebeWA6v3HD5_"
   },
   "source": [
    "<h3>Kesimpulan</h3>\n",
    "<p>Dapat disimpulkan bahwa tidak banyak customer yang tertarik terhadap kartu kredit yang direkomendasikan. Ini terlihat dari beberapa aspek, baik itu Jenis Kelamin (Age), Umur (Age), Jenis Pekerjaan, dll. Dari hasil prediksi terlihat bahwa yang tertarik pada kartu kredit yang direkomendasikan bahkan kurang dari 50% dari keseluruhan jumlah customer</p>"
   ]
  },
  {
   "cell_type": "markdown",
   "metadata": {
    "id": "fDgieP-QRe_8"
   },
   "source": [
    "<h3>Saran</h3>\n",
    "<p>\n",
    "<ul>\n",
    "<li>Lebih baik keputusan untuk melakukan cross-selling kartu kredit tidak dilakukan. Dapat ditunda terlebih dahulu atau dapat digantikan dengan cross-selling product yang lain</li>\n",
    "<li>Jika tetap ingin melakukan cross-selling kartu kredit, maka divisi marketing harus melakukan promosi agar meningkatkan ketertarikan customer terhadap product ini dan setelah itu dilakukan analisa dan prediksi kembali</li>\n",
    "<li>Untuk meningkatkan keterkaitan antara customer lama dengan product cross-selling, maka customer lama dapat diberi hadiah dan penawaran yang menarik</li>\n",
    "</ul>\n",
    "</p>"
   ]
  }
 ],
 "metadata": {
  "colab": {
   "collapsed_sections": [],
   "name": "Capstone Junior Data Scientist Narasio Data - Jose Alfred Benaya",
   "provenance": []
  },
  "kernelspec": {
   "display_name": "Python 3 (ipykernel)",
   "language": "python",
   "name": "python3"
  },
  "language_info": {
   "codemirror_mode": {
    "name": "ipython",
    "version": 3
   },
   "file_extension": ".py",
   "mimetype": "text/x-python",
   "name": "python",
   "nbconvert_exporter": "python",
   "pygments_lexer": "ipython3",
   "version": "3.9.12"
  }
 },
 "nbformat": 4,
 "nbformat_minor": 4
}
